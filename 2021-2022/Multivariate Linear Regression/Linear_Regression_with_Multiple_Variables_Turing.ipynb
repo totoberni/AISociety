{
  "nbformat": 4,
  "nbformat_minor": 0,
  "metadata": {
    "colab": {
      "provenance": []
    },
    "kernelspec": {
      "name": "python3",
      "display_name": "Python 3"
    },
    "language_info": {
      "name": "python"
    }
  },
  "cells": [
    {
      "cell_type": "markdown",
      "metadata": {
        "id": "phoVR8gqxxnq"
      },
      "source": [
        "# Hello Turing Group!\n",
        "\n",
        "<img src=\"https://www.sciencesource.com/Doc/TR7/9/9/f/0/SS21927158.jpg?d63690353549\">\n",
        "\n"
      ]
    },
    {
      "cell_type": "markdown",
      "metadata": {
        "id": "mUwWobnPgq-O"
      },
      "source": [
        "## **Welcome To USAIS's workshop on Bivariable Linear Regression!** 🤖📈\n",
        "\n",
        "Below you will find all necessary instructions and tutorials to learn how to apply the theory you have learned in the workshop!\n",
        "\n",
        "<img src=\"https://images.adsttc.com/media/images/5ecd/d4ac/b357/65c6/7300/009d/large_jpg/02C.jpg?1590547607\">"
      ]
    },
    {
      "cell_type": "markdown",
      "metadata": {
        "id": "oOu9DYX_Xbrd"
      },
      "source": [
        "\n",
        "### Prompt:\n",
        "\n",
        "*Suppose we are selling a house in Oregon and we\n",
        "want to investigate how its price behaves depending on some variables. Let these be the number of available beedrooms and the area covered (in square feet) by the house.*\n",
        "<br>\n",
        "<br>\n",
        "\n",
        "Then, our values are <br>\n",
        "\n",
        "*xᵢ =* Bedrooms available <br>\n",
        "*xⱼ =* House's square footage <br>\n",
        "*y =* House's price <br>\n"
      ]
    },
    {
      "cell_type": "markdown",
      "metadata": {
        "id": "BkWmUf2qngUJ"
      },
      "source": [
        "### The Goal:\n",
        "\n",
        "<font color=\"lightblue\">\n",
        "Our goal is to **find a line of best fit** that can allow us to predict our house's price depending on the square footage and the number of bedrooms.\n",
        "<br>\n",
        "<br>\n",
        "The line of best fit will use the following **linear equation**\n",
        "\n",
        "$ y = θ_k x_1 + θ_j x_2 + θ_i $\n",
        "\n",
        "where parameters $( \\theta_i, \\theta_j, \\theta_k )$ are the **weights** we will\n",
        "find using gradient descent\n",
        "</font>"
      ]
    },
    {
      "cell_type": "markdown",
      "metadata": {
        "id": "BG3VosGdnh6H"
      },
      "source": [
        "One way to do this is to\n",
        "first collect information on recent houses sold and make a model of housing\n",
        "prices.\n",
        "Below is a command that imports a dataset for our purpose from the USAIS' github page. Please run it."
      ]
    },
    {
      "cell_type": "markdown",
      "metadata": {
        "id": "aa9dnu65U0Sd"
      },
      "source": [
        "## Setup\n",
        "\n",
        "Let's start by importing some libraries. Libraries are tools that allow us to use new functions, commands, variables and so much more. They save us the trouble of creating everything we need from scratch."
      ]
    },
    {
      "cell_type": "code",
      "metadata": {
        "id": "U3e72v7a3ZX5",
        "colab": {
          "base_uri": "https://localhost:8080/"
        },
        "outputId": "0fce56df-ee48-4cc9-f03e-85cdd009ae23"
      },
      "source": [
        "from pathlib import Path\n",
        "import numpy as np\n",
        "!pip install pandas==1.3.4\n",
        "import pandas as pd\n",
        "import matplotlib.pyplot as plt\n",
        "%matplotlib inline\n",
        "\n",
        "!git clone https://github.com/usais/workshops_21_22.git"
      ],
      "execution_count": null,
      "outputs": [
        {
          "output_type": "stream",
          "name": "stdout",
          "text": [
            "Requirement already satisfied: pandas==1.3.4 in /usr/local/lib/python3.7/dist-packages (1.3.4)\n",
            "Requirement already satisfied: pytz>=2017.3 in /usr/local/lib/python3.7/dist-packages (from pandas==1.3.4) (2018.9)\n",
            "Requirement already satisfied: numpy>=1.17.3 in /usr/local/lib/python3.7/dist-packages (from pandas==1.3.4) (1.19.5)\n",
            "Requirement already satisfied: python-dateutil>=2.7.3 in /usr/local/lib/python3.7/dist-packages (from pandas==1.3.4) (2.8.2)\n",
            "Requirement already satisfied: six>=1.5 in /usr/local/lib/python3.7/dist-packages (from python-dateutil>=2.7.3->pandas==1.3.4) (1.15.0)\n",
            "fatal: destination path 'workshops_21_22' already exists and is not an empty directory.\n"
          ]
        }
      ]
    },
    {
      "cell_type": "markdown",
      "metadata": {
        "id": "vRnhjyEJ3x1p"
      },
      "source": [
        "We now need to access the data, which we will do by setting a couple variables"
      ]
    },
    {
      "cell_type": "code",
      "metadata": {
        "id": "Ozoj33NN7mVM"
      },
      "source": [
        "path = '/content/workshops_21_22/2_lin_reg_multi_var/housing_data.csv' #if you're a linux user, then replace the separators ()\n",
        "data2 = pd.read_csv(path, header=None, names=['size', 'bedrooms', 'price'])"
      ],
      "execution_count": null,
      "outputs": []
    },
    {
      "cell_type": "markdown",
      "metadata": {
        "id": "E5MPDaORYKzC"
      },
      "source": [
        "## Exploring the Data\n",
        "\n",
        "It's time to take a look at our data. The .head() method will print the first five elements of the dataset"
      ]
    },
    {
      "cell_type": "code",
      "metadata": {
        "id": "U7RTc6DC7mVN",
        "colab": {
          "base_uri": "https://localhost:8080/",
          "height": 206
        },
        "outputId": "640f24d0-450f-426d-b921-2f3092a1bb76"
      },
      "source": [
        "data2.head() # Running the line above returns a table with the first elements of the dataset"
      ],
      "execution_count": null,
      "outputs": [
        {
          "output_type": "execute_result",
          "data": {
            "text/html": [
              "<div>\n",
              "<style scoped>\n",
              "    .dataframe tbody tr th:only-of-type {\n",
              "        vertical-align: middle;\n",
              "    }\n",
              "\n",
              "    .dataframe tbody tr th {\n",
              "        vertical-align: top;\n",
              "    }\n",
              "\n",
              "    .dataframe thead th {\n",
              "        text-align: right;\n",
              "    }\n",
              "</style>\n",
              "<table border=\"1\" class=\"dataframe\">\n",
              "  <thead>\n",
              "    <tr style=\"text-align: right;\">\n",
              "      <th></th>\n",
              "      <th>size</th>\n",
              "      <th>bedrooms</th>\n",
              "      <th>price</th>\n",
              "    </tr>\n",
              "  </thead>\n",
              "  <tbody>\n",
              "    <tr>\n",
              "      <th>0</th>\n",
              "      <td>2104</td>\n",
              "      <td>3</td>\n",
              "      <td>399900</td>\n",
              "    </tr>\n",
              "    <tr>\n",
              "      <th>1</th>\n",
              "      <td>1600</td>\n",
              "      <td>3</td>\n",
              "      <td>329900</td>\n",
              "    </tr>\n",
              "    <tr>\n",
              "      <th>2</th>\n",
              "      <td>2400</td>\n",
              "      <td>3</td>\n",
              "      <td>369000</td>\n",
              "    </tr>\n",
              "    <tr>\n",
              "      <th>3</th>\n",
              "      <td>1416</td>\n",
              "      <td>2</td>\n",
              "      <td>232000</td>\n",
              "    </tr>\n",
              "    <tr>\n",
              "      <th>4</th>\n",
              "      <td>3000</td>\n",
              "      <td>4</td>\n",
              "      <td>539900</td>\n",
              "    </tr>\n",
              "  </tbody>\n",
              "</table>\n",
              "</div>"
            ],
            "text/plain": [
              "   size  bedrooms   price\n",
              "0  2104         3  399900\n",
              "1  1600         3  329900\n",
              "2  2400         3  369000\n",
              "3  1416         2  232000\n",
              "4  3000         4  539900"
            ]
          },
          "metadata": {},
          "execution_count": 3
        }
      ]
    },
    {
      "cell_type": "markdown",
      "metadata": {
        "id": "VCn8YrTM3l4g"
      },
      "source": [
        "If you want to see the whole dataset use print(data2)"
      ]
    },
    {
      "cell_type": "code",
      "metadata": {
        "id": "ZWrzr_XP3t1E",
        "colab": {
          "base_uri": "https://localhost:8080/"
        },
        "outputId": "fc3bebce-6dab-41ec-b2d8-aac1d49841fb"
      },
      "source": [
        "print(data2)"
      ],
      "execution_count": null,
      "outputs": [
        {
          "output_type": "stream",
          "name": "stdout",
          "text": [
            "    size  bedrooms   price\n",
            "0   2104         3  399900\n",
            "1   1600         3  329900\n",
            "2   2400         3  369000\n",
            "3   1416         2  232000\n",
            "4   3000         4  539900\n",
            "5   1985         4  299900\n",
            "6   1534         3  314900\n",
            "7   1427         3  198999\n",
            "8   1380         3  212000\n",
            "9   1494         3  242500\n",
            "10  1940         4  239999\n",
            "11  2000         3  347000\n",
            "12  1890         3  329999\n",
            "13  4478         5  699900\n",
            "14  1268         3  259900\n",
            "15  2300         4  449900\n",
            "16  1320         2  299900\n",
            "17  1236         3  199900\n",
            "18  2609         4  499998\n",
            "19  3031         4  599000\n",
            "20  1767         3  252900\n",
            "21  1888         2  255000\n",
            "22  1604         3  242900\n",
            "23  1962         4  259900\n",
            "24  3890         3  573900\n",
            "25  1100         3  249900\n",
            "26  1458         3  464500\n",
            "27  2526         3  469000\n",
            "28  2200         3  475000\n",
            "29  2637         3  299900\n",
            "30  1839         2  349900\n",
            "31  1000         1  169900\n",
            "32  2040         4  314900\n",
            "33  3137         3  579900\n",
            "34  1811         4  285900\n",
            "35  1437         3  249900\n",
            "36  1239         3  229900\n",
            "37  2132         4  345000\n",
            "38  4215         4  549000\n",
            "39  2162         4  287000\n",
            "40  1664         2  368500\n",
            "41  2238         3  329900\n",
            "42  2567         4  314000\n",
            "43  1200         3  299000\n",
            "44   852         2  179900\n",
            "45  1852         4  299900\n",
            "46  1203         3  239500\n"
          ]
        }
      ]
    },
    {
      "cell_type": "markdown",
      "metadata": {
        "id": "NyEXn09E5M13"
      },
      "source": [
        "Let's also very quickly run a set of diagnostic calculations on the data. This is very easy thanks to the pandas library"
      ]
    },
    {
      "cell_type": "code",
      "metadata": {
        "colab": {
          "base_uri": "https://localhost:8080/",
          "height": 300
        },
        "id": "36DsstcY52qX",
        "outputId": "2dd16704-b6ac-4bc0-b4c7-323256ebf247"
      },
      "source": [
        "data2.describe()"
      ],
      "execution_count": null,
      "outputs": [
        {
          "output_type": "execute_result",
          "data": {
            "text/html": [
              "<div>\n",
              "<style scoped>\n",
              "    .dataframe tbody tr th:only-of-type {\n",
              "        vertical-align: middle;\n",
              "    }\n",
              "\n",
              "    .dataframe tbody tr th {\n",
              "        vertical-align: top;\n",
              "    }\n",
              "\n",
              "    .dataframe thead th {\n",
              "        text-align: right;\n",
              "    }\n",
              "</style>\n",
              "<table border=\"1\" class=\"dataframe\">\n",
              "  <thead>\n",
              "    <tr style=\"text-align: right;\">\n",
              "      <th></th>\n",
              "      <th>size</th>\n",
              "      <th>bedrooms</th>\n",
              "      <th>price</th>\n",
              "    </tr>\n",
              "  </thead>\n",
              "  <tbody>\n",
              "    <tr>\n",
              "      <th>count</th>\n",
              "      <td>47.000000</td>\n",
              "      <td>47.000000</td>\n",
              "      <td>47.000000</td>\n",
              "    </tr>\n",
              "    <tr>\n",
              "      <th>mean</th>\n",
              "      <td>2000.680851</td>\n",
              "      <td>3.170213</td>\n",
              "      <td>340412.659574</td>\n",
              "    </tr>\n",
              "    <tr>\n",
              "      <th>std</th>\n",
              "      <td>794.702354</td>\n",
              "      <td>0.760982</td>\n",
              "      <td>125039.899586</td>\n",
              "    </tr>\n",
              "    <tr>\n",
              "      <th>min</th>\n",
              "      <td>852.000000</td>\n",
              "      <td>1.000000</td>\n",
              "      <td>169900.000000</td>\n",
              "    </tr>\n",
              "    <tr>\n",
              "      <th>25%</th>\n",
              "      <td>1432.000000</td>\n",
              "      <td>3.000000</td>\n",
              "      <td>249900.000000</td>\n",
              "    </tr>\n",
              "    <tr>\n",
              "      <th>50%</th>\n",
              "      <td>1888.000000</td>\n",
              "      <td>3.000000</td>\n",
              "      <td>299900.000000</td>\n",
              "    </tr>\n",
              "    <tr>\n",
              "      <th>75%</th>\n",
              "      <td>2269.000000</td>\n",
              "      <td>4.000000</td>\n",
              "      <td>384450.000000</td>\n",
              "    </tr>\n",
              "    <tr>\n",
              "      <th>max</th>\n",
              "      <td>4478.000000</td>\n",
              "      <td>5.000000</td>\n",
              "      <td>699900.000000</td>\n",
              "    </tr>\n",
              "  </tbody>\n",
              "</table>\n",
              "</div>"
            ],
            "text/plain": [
              "              size   bedrooms          price\n",
              "count    47.000000  47.000000      47.000000\n",
              "mean   2000.680851   3.170213  340412.659574\n",
              "std     794.702354   0.760982  125039.899586\n",
              "min     852.000000   1.000000  169900.000000\n",
              "25%    1432.000000   3.000000  249900.000000\n",
              "50%    1888.000000   3.000000  299900.000000\n",
              "75%    2269.000000   4.000000  384450.000000\n",
              "max    4478.000000   5.000000  699900.000000"
            ]
          },
          "metadata": {},
          "execution_count": 5
        }
      ]
    },
    {
      "cell_type": "markdown",
      "metadata": {
        "id": "iz_-CRGMVbqH"
      },
      "source": [
        "## Using Math"
      ]
    },
    {
      "cell_type": "markdown",
      "metadata": {
        "id": "F5csFi_IFrJ2"
      },
      "source": [
        "#### Normalize\n",
        "\n",
        "By looking at the values, note that house sizes are about\n",
        "1000 times the number of bedrooms.\n",
        "<p> When features differ by orders of magnitude, performing feature scaling can make gradient descent converge\n",
        "much more quickly.\n",
        "\n",
        "<br>\n",
        "<br>\n",
        "\n",
        "This is done by normalizing our variables. Which means <p>\n",
        "\n",
        "*   Subtracting the mean value of each feature from the dataset.\n",
        "\n",
        "*   Dividing each feature by its respective \"standard deviation\""
      ]
    },
    {
      "cell_type": "code",
      "metadata": {
        "id": "EvLInb6wKB1G",
        "colab": {
          "base_uri": "https://localhost:8080/",
          "height": 206
        },
        "outputId": "87f05e01-3420-42d6-e743-c290c1a0ebcb"
      },
      "source": [
        "data2 = (data2 - data2.mean()) / data2.std()\n",
        "data2.head() #Below is an output of the normalized data"
      ],
      "execution_count": null,
      "outputs": [
        {
          "output_type": "execute_result",
          "data": {
            "text/html": [
              "<div>\n",
              "<style scoped>\n",
              "    .dataframe tbody tr th:only-of-type {\n",
              "        vertical-align: middle;\n",
              "    }\n",
              "\n",
              "    .dataframe tbody tr th {\n",
              "        vertical-align: top;\n",
              "    }\n",
              "\n",
              "    .dataframe thead th {\n",
              "        text-align: right;\n",
              "    }\n",
              "</style>\n",
              "<table border=\"1\" class=\"dataframe\">\n",
              "  <thead>\n",
              "    <tr style=\"text-align: right;\">\n",
              "      <th></th>\n",
              "      <th>size</th>\n",
              "      <th>bedrooms</th>\n",
              "      <th>price</th>\n",
              "    </tr>\n",
              "  </thead>\n",
              "  <tbody>\n",
              "    <tr>\n",
              "      <th>0</th>\n",
              "      <td>0.130010</td>\n",
              "      <td>-0.223675</td>\n",
              "      <td>0.475747</td>\n",
              "    </tr>\n",
              "    <tr>\n",
              "      <th>1</th>\n",
              "      <td>-0.504190</td>\n",
              "      <td>-0.223675</td>\n",
              "      <td>-0.084074</td>\n",
              "    </tr>\n",
              "    <tr>\n",
              "      <th>2</th>\n",
              "      <td>0.502476</td>\n",
              "      <td>-0.223675</td>\n",
              "      <td>0.228626</td>\n",
              "    </tr>\n",
              "    <tr>\n",
              "      <th>3</th>\n",
              "      <td>-0.735723</td>\n",
              "      <td>-1.537767</td>\n",
              "      <td>-0.867025</td>\n",
              "    </tr>\n",
              "    <tr>\n",
              "      <th>4</th>\n",
              "      <td>1.257476</td>\n",
              "      <td>1.090417</td>\n",
              "      <td>1.595389</td>\n",
              "    </tr>\n",
              "  </tbody>\n",
              "</table>\n",
              "</div>"
            ],
            "text/plain": [
              "       size  bedrooms     price\n",
              "0  0.130010 -0.223675  0.475747\n",
              "1 -0.504190 -0.223675 -0.084074\n",
              "2  0.502476 -0.223675  0.228626\n",
              "3 -0.735723 -1.537767 -0.867025\n",
              "4  1.257476  1.090417  1.595389"
            ]
          },
          "metadata": {},
          "execution_count": 6
        }
      ]
    },
    {
      "cell_type": "markdown",
      "metadata": {
        "id": "KQkJE7K6Jgfj"
      },
      "source": [
        "#### Variable Initialisation\n"
      ]
    },
    {
      "cell_type": "markdown",
      "metadata": {
        "id": "nPTVTupRLecd"
      },
      "source": [
        "Now, let's do some variable initiation. Remember that we are working with  \n",
        "\n",
        "*   the square footage and number of bedrooms in a house *x*\n",
        "*   the price *y*\n",
        "*   our randomly generated parameters *θ* (remember that we have three of these, which we will encapsulate in a vector)\n",
        "*   the learning rate α\n",
        "*   Number of iterations (iters)\n",
        "\n",
        "we are also initializing a cols variable, which returns the number of columns of the dataset\n",
        "\n",
        "\n",
        "\n",
        "\n",
        "\n"
      ]
    },
    {
      "cell_type": "markdown",
      "metadata": {
        "id": "FD46iWf0ZEx9"
      },
      "source": [
        "This step is a bit counterintuitive. Recall that we are working with *n* dimensional vectors (*vᵢ*, *vⱼ*, ... , *vₙ*)ᵀ where each dimension corresponds to one of our *x* values. <p>\n",
        "In this case we have a bidimensional vector, which we want to represent in a threedimensional space. To do this, we add a \"Ones\" column, with a 1 in each row. This exploit allows each of the *x* values to exist in 3D.\n"
      ]
    },
    {
      "cell_type": "markdown",
      "metadata": {
        "id": "5SOW6gr9Jgfj"
      },
      "source": [
        "Let's add a column of ones to the training set so we can use a vectorized solution to computing the cost and gradients."
      ]
    },
    {
      "cell_type": "code",
      "metadata": {
        "id": "y_u-obFxJgfj"
      },
      "source": [
        "data2.insert(0, 'Ones', 1)"
      ],
      "execution_count": null,
      "outputs": []
    },
    {
      "cell_type": "markdown",
      "metadata": {
        "id": "_ZIVe0J8Jgfj"
      },
      "source": [
        "Let's take a look to make sure x (training set) and y (target variable) look correct."
      ]
    },
    {
      "cell_type": "code",
      "metadata": {
        "id": "A0KlcFXd7jcX",
        "colab": {
          "base_uri": "https://localhost:8080/",
          "height": 206
        },
        "outputId": "1ad4e904-551b-4278-f1f9-81960d8554a7"
      },
      "source": [
        "data2.head()"
      ],
      "execution_count": null,
      "outputs": [
        {
          "output_type": "execute_result",
          "data": {
            "text/html": [
              "<div>\n",
              "<style scoped>\n",
              "    .dataframe tbody tr th:only-of-type {\n",
              "        vertical-align: middle;\n",
              "    }\n",
              "\n",
              "    .dataframe tbody tr th {\n",
              "        vertical-align: top;\n",
              "    }\n",
              "\n",
              "    .dataframe thead th {\n",
              "        text-align: right;\n",
              "    }\n",
              "</style>\n",
              "<table border=\"1\" class=\"dataframe\">\n",
              "  <thead>\n",
              "    <tr style=\"text-align: right;\">\n",
              "      <th></th>\n",
              "      <th>Ones</th>\n",
              "      <th>size</th>\n",
              "      <th>bedrooms</th>\n",
              "      <th>price</th>\n",
              "    </tr>\n",
              "  </thead>\n",
              "  <tbody>\n",
              "    <tr>\n",
              "      <th>0</th>\n",
              "      <td>1</td>\n",
              "      <td>0.130010</td>\n",
              "      <td>-0.223675</td>\n",
              "      <td>0.475747</td>\n",
              "    </tr>\n",
              "    <tr>\n",
              "      <th>1</th>\n",
              "      <td>1</td>\n",
              "      <td>-0.504190</td>\n",
              "      <td>-0.223675</td>\n",
              "      <td>-0.084074</td>\n",
              "    </tr>\n",
              "    <tr>\n",
              "      <th>2</th>\n",
              "      <td>1</td>\n",
              "      <td>0.502476</td>\n",
              "      <td>-0.223675</td>\n",
              "      <td>0.228626</td>\n",
              "    </tr>\n",
              "    <tr>\n",
              "      <th>3</th>\n",
              "      <td>1</td>\n",
              "      <td>-0.735723</td>\n",
              "      <td>-1.537767</td>\n",
              "      <td>-0.867025</td>\n",
              "    </tr>\n",
              "    <tr>\n",
              "      <th>4</th>\n",
              "      <td>1</td>\n",
              "      <td>1.257476</td>\n",
              "      <td>1.090417</td>\n",
              "      <td>1.595389</td>\n",
              "    </tr>\n",
              "  </tbody>\n",
              "</table>\n",
              "</div>"
            ],
            "text/plain": [
              "   Ones      size  bedrooms     price\n",
              "0     1  0.130010 -0.223675  0.475747\n",
              "1     1 -0.504190 -0.223675 -0.084074\n",
              "2     1  0.502476 -0.223675  0.228626\n",
              "3     1 -0.735723 -1.537767 -0.867025\n",
              "4     1  1.257476  1.090417  1.595389"
            ]
          },
          "metadata": {},
          "execution_count": 8
        }
      ]
    },
    {
      "cell_type": "markdown",
      "metadata": {
        "id": "XktqlcQAakDl"
      },
      "source": [
        "#### Split into Training and Validation"
      ]
    },
    {
      "cell_type": "code",
      "metadata": {
        "id": "yu1FMwAxJgfj"
      },
      "source": [
        "# set x (training data) and y (target variable)\n",
        "cols = data2.shape[1] #\n",
        "\n",
        "x = data2.iloc[:,0:3] #selecting columns from 0 to 2 from table\n",
        "y = data2.iloc[:,3:4] #selecting column 3 from table"
      ],
      "execution_count": null,
      "outputs": []
    },
    {
      "cell_type": "markdown",
      "metadata": {
        "id": "DeQYyekNnlQN"
      },
      "source": [
        "Let's see what this looks like"
      ]
    },
    {
      "cell_type": "code",
      "metadata": {
        "id": "9yu0sVUPJgfk",
        "colab": {
          "base_uri": "https://localhost:8080/",
          "height": 206
        },
        "outputId": "cb7b850b-7712-42ec-e494-0dacdce1a449"
      },
      "source": [
        "x.head()"
      ],
      "execution_count": null,
      "outputs": [
        {
          "output_type": "execute_result",
          "data": {
            "text/html": [
              "<div>\n",
              "<style scoped>\n",
              "    .dataframe tbody tr th:only-of-type {\n",
              "        vertical-align: middle;\n",
              "    }\n",
              "\n",
              "    .dataframe tbody tr th {\n",
              "        vertical-align: top;\n",
              "    }\n",
              "\n",
              "    .dataframe thead th {\n",
              "        text-align: right;\n",
              "    }\n",
              "</style>\n",
              "<table border=\"1\" class=\"dataframe\">\n",
              "  <thead>\n",
              "    <tr style=\"text-align: right;\">\n",
              "      <th></th>\n",
              "      <th>Ones</th>\n",
              "      <th>size</th>\n",
              "      <th>bedrooms</th>\n",
              "    </tr>\n",
              "  </thead>\n",
              "  <tbody>\n",
              "    <tr>\n",
              "      <th>0</th>\n",
              "      <td>1</td>\n",
              "      <td>0.130010</td>\n",
              "      <td>-0.223675</td>\n",
              "    </tr>\n",
              "    <tr>\n",
              "      <th>1</th>\n",
              "      <td>1</td>\n",
              "      <td>-0.504190</td>\n",
              "      <td>-0.223675</td>\n",
              "    </tr>\n",
              "    <tr>\n",
              "      <th>2</th>\n",
              "      <td>1</td>\n",
              "      <td>0.502476</td>\n",
              "      <td>-0.223675</td>\n",
              "    </tr>\n",
              "    <tr>\n",
              "      <th>3</th>\n",
              "      <td>1</td>\n",
              "      <td>-0.735723</td>\n",
              "      <td>-1.537767</td>\n",
              "    </tr>\n",
              "    <tr>\n",
              "      <th>4</th>\n",
              "      <td>1</td>\n",
              "      <td>1.257476</td>\n",
              "      <td>1.090417</td>\n",
              "    </tr>\n",
              "  </tbody>\n",
              "</table>\n",
              "</div>"
            ],
            "text/plain": [
              "   Ones      size  bedrooms\n",
              "0     1  0.130010 -0.223675\n",
              "1     1 -0.504190 -0.223675\n",
              "2     1  0.502476 -0.223675\n",
              "3     1 -0.735723 -1.537767\n",
              "4     1  1.257476  1.090417"
            ]
          },
          "metadata": {},
          "execution_count": 10
        }
      ]
    },
    {
      "cell_type": "code",
      "metadata": {
        "id": "N9fXt14HJgfk",
        "colab": {
          "base_uri": "https://localhost:8080/",
          "height": 206
        },
        "outputId": "c15d25e8-623c-4c2f-d2de-52a7448f83d8"
      },
      "source": [
        "y.head()"
      ],
      "execution_count": null,
      "outputs": [
        {
          "output_type": "execute_result",
          "data": {
            "text/html": [
              "<div>\n",
              "<style scoped>\n",
              "    .dataframe tbody tr th:only-of-type {\n",
              "        vertical-align: middle;\n",
              "    }\n",
              "\n",
              "    .dataframe tbody tr th {\n",
              "        vertical-align: top;\n",
              "    }\n",
              "\n",
              "    .dataframe thead th {\n",
              "        text-align: right;\n",
              "    }\n",
              "</style>\n",
              "<table border=\"1\" class=\"dataframe\">\n",
              "  <thead>\n",
              "    <tr style=\"text-align: right;\">\n",
              "      <th></th>\n",
              "      <th>price</th>\n",
              "    </tr>\n",
              "  </thead>\n",
              "  <tbody>\n",
              "    <tr>\n",
              "      <th>0</th>\n",
              "      <td>0.475747</td>\n",
              "    </tr>\n",
              "    <tr>\n",
              "      <th>1</th>\n",
              "      <td>-0.084074</td>\n",
              "    </tr>\n",
              "    <tr>\n",
              "      <th>2</th>\n",
              "      <td>0.228626</td>\n",
              "    </tr>\n",
              "    <tr>\n",
              "      <th>3</th>\n",
              "      <td>-0.867025</td>\n",
              "    </tr>\n",
              "    <tr>\n",
              "      <th>4</th>\n",
              "      <td>1.595389</td>\n",
              "    </tr>\n",
              "  </tbody>\n",
              "</table>\n",
              "</div>"
            ],
            "text/plain": [
              "      price\n",
              "0  0.475747\n",
              "1 -0.084074\n",
              "2  0.228626\n",
              "3 -0.867025\n",
              "4  1.595389"
            ]
          },
          "metadata": {},
          "execution_count": 11
        }
      ]
    },
    {
      "cell_type": "markdown",
      "metadata": {
        "id": "78cKeYQTJgfk"
      },
      "source": [
        "#### Cost Function"
      ]
    },
    {
      "cell_type": "code",
      "metadata": {
        "id": "fU2EAuYAbY5D",
        "colab": {
          "base_uri": "https://localhost:8080/"
        },
        "outputId": "7f6cb0e1-a768-4506-cb18-d34f6d236d28"
      },
      "source": [
        "theta = np.matrix(np.array([0,0,0]))\n",
        "\n",
        "print(theta)"
      ],
      "execution_count": null,
      "outputs": [
        {
          "output_type": "stream",
          "name": "stdout",
          "text": [
            "[[0 0 0]]\n"
          ]
        }
      ]
    },
    {
      "cell_type": "markdown",
      "metadata": {
        "id": "WMh0CjEubiX1"
      },
      "source": [
        "The cost function is expecting numpy matrices so we need to convert x and y before we can use them.  We also need to initialize theta."
      ]
    },
    {
      "cell_type": "code",
      "metadata": {
        "id": "JdZXByEPJgfk"
      },
      "source": [
        "x = np.matrix(x.values)\n",
        "y = np.matrix(y.values)"
      ],
      "execution_count": null,
      "outputs": []
    },
    {
      "cell_type": "markdown",
      "metadata": {
        "id": "f_UZbZR-bphn"
      },
      "source": [
        "Taking a look at the shape of our matrices, we see that θ has as as many columns as *x* does. Which is what we wanted"
      ]
    },
    {
      "cell_type": "code",
      "metadata": {
        "id": "hsT7-Tfxbphr",
        "colab": {
          "base_uri": "https://localhost:8080/"
        },
        "outputId": "1b11e843-d189-4677-cf6b-6f601b47581d"
      },
      "source": [
        "y.shape, x.shape, theta.shape"
      ],
      "execution_count": null,
      "outputs": [
        {
          "output_type": "execute_result",
          "data": {
            "text/plain": [
              "((47, 1), (47, 3), (1, 3))"
            ]
          },
          "metadata": {},
          "execution_count": 14
        }
      ]
    },
    {
      "cell_type": "markdown",
      "metadata": {
        "id": "9XYIgp7gJgfi"
      },
      "source": [
        "<img src=\"https://study.com/cimages/multimages/16/4e7cf150-0179-4d89-86f2-5cbb1f51c266_meansquarederrorformula.png\">\n",
        "\n",
        "Now let's implement linear regression using gradient descent to minimize the cost function. Recall that the cost function is an evaluation of how accurate our AI generated model is."
      ]
    },
    {
      "cell_type": "code",
      "metadata": {
        "id": "RmbjiF8iKB07"
      },
      "source": [
        "def computeCost(X, y, theta):\n",
        "    inner = np.power(((X * theta.T) - y), 2) #Raises the subtraction between y and x*theta (transposed) to the power of two\n",
        "    return np.sum(inner) / len(X) #dividing the sum by twice the length of the list"
      ],
      "execution_count": null,
      "outputs": []
    },
    {
      "cell_type": "markdown",
      "metadata": {
        "id": "nF4vmnH4qICi"
      },
      "source": [
        "Now that we have initialized theta, we can compute our cost function of our model"
      ]
    },
    {
      "cell_type": "code",
      "metadata": {
        "id": "d2WOhyuPqU9c",
        "colab": {
          "base_uri": "https://localhost:8080/"
        },
        "outputId": "7340db75-2e19-45b1-ec4b-ea4d860893ad"
      },
      "source": [
        "computeCost(x, y, theta)"
      ],
      "execution_count": null,
      "outputs": [
        {
          "output_type": "execute_result",
          "data": {
            "text/plain": [
              "0.9787234042553193"
            ]
          },
          "metadata": {},
          "execution_count": 16
        }
      ]
    },
    {
      "cell_type": "markdown",
      "metadata": {
        "id": "eKc5xH8iJgfl"
      },
      "source": [
        "So far so good.  Now we need to define a function to perform gradient descent on the parameters theta using the update rules defined in the text."
      ]
    },
    {
      "cell_type": "markdown",
      "metadata": {
        "id": "weiZMrAnJgfl"
      },
      "source": [
        "#### Gradient Descent\n",
        "\n",
        "Initialize some additional variables - the learning rate alpha, and the number of iterations to perform."
      ]
    },
    {
      "cell_type": "code",
      "metadata": {
        "id": "ACbrA1HswXN2"
      },
      "source": [
        "alpha = 0.01\n",
        "iters = 1000 #@param\n",
        "theta = np.matrix(np.array([0,0,0]))\n",
        "\n",
        "#X = training set\n",
        "#y = validation set\n",
        "#theta = weights \"randomly\" set to 0 at the start\n",
        "#alpha = learning rate\n",
        "#iters = how many time gradient descent process is repeated\n",
        "\n",
        "def gradientDescent(X, y, theta, alpha, iters):\n",
        "    temp = np.matrix(np.zeros(theta.shape)) #3d matrix of zeros\n",
        "    parameters = int(theta.ravel().shape[1]) #?? outputs 3\n",
        "    cost = np.zeros(iters) #array to store cost for each iteration\n",
        "\n",
        "    for i in range(iters): #repeat for every iteration\n",
        "        error = (X * theta.T) - y #calulate error\n",
        "\n",
        "        for j in range(parameters): #repeat for each weight\n",
        "            term = np.multiply(error, X[:,j]) #\n",
        "            temp[0,j] = theta[0,j] - ((alpha / len(X)) * np.sum(term)) #\n",
        "\n",
        "        theta = temp\n",
        "        cost[i] = computeCost(X, y, theta)\n",
        "\n",
        "    return theta, cost"
      ],
      "execution_count": null,
      "outputs": []
    },
    {
      "cell_type": "markdown",
      "metadata": {
        "id": "U43hN0IwJgfl"
      },
      "source": [
        "Now let's run the gradient descent algorithm to fit our parameters theta to the training set."
      ]
    },
    {
      "cell_type": "code",
      "metadata": {
        "id": "w0dXvExlJgfl",
        "colab": {
          "base_uri": "https://localhost:8080/"
        },
        "outputId": "84c39756-f1df-4da8-cca8-d8057e1f5d72"
      },
      "source": [
        "g, cost = gradientDescent(x, y, theta, alpha, iters)\n",
        "print (g, )"
      ],
      "execution_count": null,
      "outputs": [
        {
          "output_type": "stream",
          "name": "stdout",
          "text": [
            "[[-1.10797896e-16  8.78503652e-01 -4.69166570e-02]]\n"
          ]
        }
      ]
    },
    {
      "cell_type": "markdown",
      "metadata": {
        "id": "XLupEtmoPH3Q"
      },
      "source": [
        "Finally we can compute the cost (error) of the trained model using our fitted parameters."
      ]
    },
    {
      "cell_type": "code",
      "metadata": {
        "id": "XFkOFTOKTq4x",
        "colab": {
          "base_uri": "https://localhost:8080/"
        },
        "outputId": "8c3c1548-de17-4e1a-d6c4-fcc6ccb1a1b8"
      },
      "source": [
        "computeCost(x, y, g)"
      ],
      "execution_count": null,
      "outputs": [
        {
          "output_type": "execute_result",
          "data": {
            "text/plain": [
              "0.26140673921543783"
            ]
          },
          "metadata": {},
          "execution_count": 19
        }
      ]
    },
    {
      "cell_type": "markdown",
      "metadata": {
        "id": "xzs-PXbFiBeV"
      },
      "source": [
        "As mentioned at the start the vector below $( \\theta_i, \\theta_j, \\theta_k ) ^ T$ holds the parameters forming the equation $ y = θ_k x_1 + θ_j x_2 + θ_i $ for the 3D line of best fit.\n",
        "\n",
        "\n"
      ]
    },
    {
      "cell_type": "code",
      "metadata": {
        "id": "SZzY0Db8TQl8",
        "colab": {
          "base_uri": "https://localhost:8080/"
        },
        "outputId": "4fb60515-0348-4d83-9156-4a7ea5b526d4"
      },
      "source": [
        "print (g, )"
      ],
      "execution_count": null,
      "outputs": [
        {
          "output_type": "stream",
          "name": "stdout",
          "text": [
            "[[-1.10797896e-16  8.78503652e-01 -4.69166570e-02]]\n"
          ]
        }
      ]
    },
    {
      "cell_type": "markdown",
      "metadata": {
        "id": "f1qkP2B0PH3R"
      },
      "source": [
        "#### Visualise Error\n",
        "\n",
        "Looks pretty good!  Since the gradient descent function also outputs an array with the cost at each training iteration, we can plot that as well.  Notice that the cost always decreases - this is an example of a convex optimization problem."
      ]
    },
    {
      "cell_type": "code",
      "metadata": {
        "id": "hHbh7is5UbnP",
        "colab": {
          "base_uri": "https://localhost:8080/",
          "height": 531
        },
        "outputId": "22343587-bfd7-4cd1-bdf7-b23612a48880"
      },
      "source": [
        "fig, ax = plt.subplots(figsize=(12,8))\n",
        "ax.plot(np.arange(iters), cost, 'r')\n",
        "ax.set_xlabel('Iteration (Epoch)')\n",
        "ax.set_ylabel('Cost')\n",
        "ax.set_title('Error vs Training Epoch')"
      ],
      "execution_count": null,
      "outputs": [
        {
          "output_type": "execute_result",
          "data": {
            "text/plain": [
              "Text(0.5, 1.0, 'Error vs Training Epoch')"
            ]
          },
          "metadata": {},
          "execution_count": 21
        },
        {
          "output_type": "display_data",
          "data": {
            "image/png": "[encoded data removed]",
            "text/plain": [
              "<Figure size 864x576 with 1 Axes>"
            ]
          },
          "metadata": {
            "needs_background": "light"
          }
        }
      ]
    },
    {
      "cell_type": "markdown",
      "metadata": {
        "id": "cT6qrFPjVzXL"
      },
      "source": [
        "#### Visualise Prediction"
      ]
    },
    {
      "cell_type": "markdown",
      "metadata": {
        "id": "X_A-2sFETAjM"
      },
      "source": [
        "Lets visualise our prediction!"
      ]
    },
    {
      "cell_type": "code",
      "metadata": {
        "id": "7y1SHNldS-yD",
        "colab": {
          "base_uri": "https://localhost:8080/",
          "height": 266
        },
        "outputId": "bc06b728-f328-470f-c29b-dfc207b22f9a"
      },
      "source": [
        "\n",
        "\n",
        "fig = plt.figure()\n",
        "ax = fig.add_subplot(projection='3d')\n",
        "\n",
        "ax.scatter(data2['size'], data2['bedrooms'] , data2['price'] , marker='o')\n",
        "\n",
        "line_size = np.linspace(-1,3,100)\n",
        "line_bed = np.linspace(-3,3,100)\n",
        "\n",
        "print(g)\n",
        "\n",
        "line_price = g[0,2] * line_size + g[0,1] * line_bed + g[0,0]\n",
        "\n",
        "ax.plot(line_bed, line_size, line_price )\n",
        "ax.set_xlabel('Bedrooms')\n",
        "ax.set_ylabel('Size')\n",
        "ax.set_zlabel('Price')\n",
        "\n",
        "plt.show()"
      ],
      "execution_count": null,
      "outputs": [
        {
          "output_type": "stream",
          "name": "stdout",
          "text": [
            "[[-1.10797896e-16  8.78503652e-01 -4.69166570e-02]]\n"
          ]
        },
        {
          "output_type": "display_data",
          "data": {
            "image/png": "[encoded data removed]",
            "text/plain": [
              "<Figure size 432x288 with 1 Axes>"
            ]
          },
          "metadata": {
            "needs_background": "light"
          }
        }
      ]
    },
    {
      "cell_type": "markdown",
      "metadata": {
        "id": "BCkieJSt-j1a"
      },
      "source": [
        "## Using Sklearn"
      ]
    },
    {
      "cell_type": "markdown",
      "metadata": {
        "id": "Dg7YmEImPH3U"
      },
      "source": [
        "Instead of implementing these algorithms from scratch, we could also use scikit-learn's linear regression function.  Let's apply it to our data and see what it comes up with."
      ]
    },
    {
      "cell_type": "markdown",
      "metadata": {
        "id": "II7K0yomWK7h"
      },
      "source": [
        "#### Define and Train"
      ]
    },
    {
      "cell_type": "code",
      "metadata": {
        "id": "jKfLTufw-jRv",
        "colab": {
          "base_uri": "https://localhost:8080/"
        },
        "outputId": "152d0d1e-ed76-49cc-d51c-ec58f227a733"
      },
      "source": [
        "#define and train model\n",
        "\n",
        "from sklearn import linear_model\n",
        "model = linear_model.LinearRegression()\n",
        "model.fit(x, y)"
      ],
      "execution_count": null,
      "outputs": [
        {
          "output_type": "stream",
          "name": "stderr",
          "text": [
            "/usr/local/lib/python3.7/dist-packages/sklearn/utils/validation.py:590: FutureWarning: np.matrix usage is deprecated in 1.0 and will raise a TypeError in 1.2. Please convert to a numpy array with np.asarray. For more information see: https://numpy.org/doc/stable/reference/generated/numpy.matrix.html\n",
            "  FutureWarning,\n",
            "/usr/local/lib/python3.7/dist-packages/sklearn/utils/validation.py:590: FutureWarning: np.matrix usage is deprecated in 1.0 and will raise a TypeError in 1.2. Please convert to a numpy array with np.asarray. For more information see: https://numpy.org/doc/stable/reference/generated/numpy.matrix.html\n",
            "  FutureWarning,\n"
          ]
        },
        {
          "output_type": "execute_result",
          "data": {
            "text/plain": [
              "LinearRegression()"
            ]
          },
          "metadata": {},
          "execution_count": 23
        }
      ]
    },
    {
      "cell_type": "markdown",
      "metadata": {
        "id": "IzFz3UMmWP4p"
      },
      "source": [
        "#### Make a Prediction"
      ]
    },
    {
      "cell_type": "code",
      "metadata": {
        "id": "9Qgv-P6BBMaP"
      },
      "source": [
        "#make prediction on dummy data\n",
        "\n",
        "input_size = 0.3 #@param\n",
        "input_beds =  -0.1#@param\n",
        "\n",
        "pred = model.predict([[1, input_size, input_beds]]) #make prediction\n",
        "\n"
      ],
      "execution_count": null,
      "outputs": []
    },
    {
      "cell_type": "code",
      "metadata": {
        "id": "MSMg_HIOlw9v",
        "colab": {
          "base_uri": "https://localhost:8080/"
        },
        "outputId": "b294877f-aeb9-465e-c058-c6d58155cd28"
      },
      "source": [
        "print(\"Using Math: \"+str(g[0]))\n",
        "print(\"Using Scikit Learn: \"+ str( [model.intercept_[0],  model.coef_[0][1],model.coef_[0][2] ]) )\n",
        "print(\"Difference: \"+ str(g[0] - [model.intercept_[0],  model.coef_[0][1],model.coef_[0][2] ]))"
      ],
      "execution_count": null,
      "outputs": [
        {
          "output_type": "stream",
          "name": "stdout",
          "text": [
            "Using Math: [[-1.10797896e-16  8.78503652e-01 -4.69166570e-02]]\n",
            "Using Scikit Learn: [-7.546297347131226e-17, 0.8847659878549522, -0.05317881966327975]\n",
            "Difference: [[-3.53349222e-17 -6.26233563e-03  6.26216263e-03]]\n"
          ]
        }
      ]
    },
    {
      "cell_type": "markdown",
      "metadata": {
        "id": "-W54pWYO-wLt"
      },
      "source": [
        "### Visualise Predictions"
      ]
    },
    {
      "cell_type": "markdown",
      "metadata": {
        "id": "cF31NMOqPH3R"
      },
      "source": [
        "Now let's plot the linear model along with the data to visually see how well it fits."
      ]
    },
    {
      "cell_type": "code",
      "metadata": {
        "id": "Rfx4s2s2ywmQ",
        "colab": {
          "base_uri": "https://localhost:8080/",
          "height": 248
        },
        "outputId": "08f2156d-06f6-4c82-feb3-302baaed3fd4"
      },
      "source": [
        "fig = plt.figure()\n",
        "ax = fig.add_subplot(projection='3d')\n",
        "\n",
        "ax.scatter(data2['size'], data2['bedrooms'] , data2['price'] , marker='o')\n",
        "\n",
        "line_size = np.linspace(-1,3,100)\n",
        "line_bed = np.linspace(-3,3,100)\n",
        "line_price = model.coef_[0][2] * line_size + model.coef_[0][1] * line_bed + model.intercept_[0]\n",
        "\n",
        "ax.plot(line_bed, line_size, line_price )\n",
        "ax.set_xlabel('Bedrooms')\n",
        "ax.set_ylabel('Size')\n",
        "ax.set_zlabel('Price')\n",
        "\n",
        "plt.show()"
      ],
      "execution_count": null,
      "outputs": [
        {
          "output_type": "display_data",
          "data": {
            "image/png": "[encoded data removed]",
            "text/plain": [
              "<Figure size 432x288 with 1 Axes>"
            ]
          },
          "metadata": {
            "needs_background": "light"
          }
        }
      ]
    }
  ]
}